{
 "cells": [
  {
   "cell_type": "code",
   "execution_count": 1,
   "metadata": {},
   "outputs": [
    {
     "name": "stderr",
     "output_type": "stream",
     "text": [
      "C:\\Progra_Files\\lib\\site-packages\\h5py\\__init__.py:36: FutureWarning: Conversion of the second argument of issubdtype from `float` to `np.floating` is deprecated. In future, it will be treated as `np.float64 == np.dtype(float).type`.\n",
      "  from ._conv import register_converters as _register_converters\n",
      "Using TensorFlow backend.\n"
     ]
    }
   ],
   "source": [
    "import numpy as np \n",
    "import os\n",
    "from glob import glob\n",
    "from PIL import Image\n",
    "import matplotlib.pyplot as plt\n",
    "import matplotlib.image as mpimg\n",
    "import keras\n",
    "from keras.utils import to_categorical\n",
    "from sklearn.model_selection import train_test_split\n",
    "from keras.models import Sequential\n",
    "from keras.layers import Conv2D, MaxPooling2D,Dense, Flatten\n",
    "from keras.models import model_from_json\n",
    "import datetime\n",
    "\n",
    "from keras.preprocessing.image import ImageDataGenerator"
   ]
  },
  {
   "cell_type": "code",
   "execution_count": 2,
   "metadata": {},
   "outputs": [
    {
     "name": "stdout",
     "output_type": "stream",
     "text": [
      "{0: 'fist', 1: 'four', 2: 'l', 3: 'ok', 4: 'palm', 5: 'three', 6: 'two'}\n"
     ]
    }
   ],
   "source": [
    "DATA_PATH = \"./Dataset/Custom/\"\n",
    "img_dims = (120, 320)\n",
    "\n",
    "lookup = dict()\n",
    "reverselookup = dict()\n",
    "count = 0\n",
    "\n",
    "for j in os.listdir(DATA_PATH+'TRAIN/'):\n",
    "    if not j.startswith('.'):\n",
    "        lookup[j] = count\t\n",
    "        reverselookup[count] = j\n",
    "        count = count + 1\n",
    "print(reverselookup)"
   ]
  },
  {
   "cell_type": "code",
   "execution_count": 14,
   "metadata": {},
   "outputs": [
    {
     "name": "stdout",
     "output_type": "stream",
     "text": [
      "Found 313 images belonging to 7 classes.\n",
      "Found 74 images belonging to 7 classes.\n",
      "Found 74 images belonging to 7 classes.\n"
     ]
    }
   ],
   "source": [
    "train_datagen = ImageDataGenerator(\n",
    "                                   width_shift_range = 0.10,\n",
    "                                   height_shift_range = 0.10,\n",
    "                                   shear_range = 0.3,\n",
    "                                   rescale=1./255,\n",
    "                                   validation_split=0.2\n",
    "                                   )\n",
    "\n",
    "test_datagen = ImageDataGenerator(rescale=1./255)\n",
    "\n",
    "train_data_generator = train_datagen.flow_from_directory(\n",
    "                                                         directory = DATA_PATH + \"Train/\",\n",
    "                                                         target_size = img_dims,\n",
    "                                                         batch_size = 64,\n",
    "                                                         class_mode = 'categorical',\n",
    "                                                         subset = 'training',\n",
    "                                                         color_mode = \"grayscale\",\n",
    "                                                        )\n",
    "\n",
    "validation_data_generator = train_datagen.flow_from_directory( \n",
    "                                                                   directory = DATA_PATH + \"Train/\",\n",
    "                                                                   target_size = img_dims,\n",
    "                                                                   batch_size = 64,\n",
    "                                                                   class_mode = 'categorical',\n",
    "                                                                   color_mode = \"grayscale\",\n",
    "                                                                   subset = 'validation'\n",
    "                                                                  )\n",
    "test_data_generator = test_datagen.flow_from_directory(\n",
    "                                                          directory = DATA_PATH + \"Test/\",\n",
    "                                                          target_size = img_dims,\n",
    "                                                          batch_size = 64,\n",
    "                                                          class_mode = 'categorical',\n",
    "                                                          color_mode = \"grayscale\",\n",
    "                                                          shuffle = False\n",
    "                                                      )"
   ]
  },
  {
   "cell_type": "code",
   "execution_count": 15,
   "metadata": {},
   "outputs": [
    {
     "name": "stdout",
     "output_type": "stream",
     "text": [
      "_________________________________________________________________\n",
      "Layer (type)                 Output Shape              Param #   \n",
      "=================================================================\n",
      "conv2d_10 (Conv2D)           (None, 58, 158, 32)       832       \n",
      "_________________________________________________________________\n",
      "max_pooling2d_10 (MaxPooling (None, 29, 79, 32)        0         \n",
      "_________________________________________________________________\n",
      "conv2d_11 (Conv2D)           (None, 27, 77, 64)        18496     \n",
      "_________________________________________________________________\n",
      "max_pooling2d_11 (MaxPooling (None, 13, 38, 64)        0         \n",
      "_________________________________________________________________\n",
      "conv2d_12 (Conv2D)           (None, 11, 36, 64)        36928     \n",
      "_________________________________________________________________\n",
      "max_pooling2d_12 (MaxPooling (None, 5, 18, 64)         0         \n",
      "_________________________________________________________________\n",
      "flatten_4 (Flatten)          (None, 5760)              0         \n",
      "_________________________________________________________________\n",
      "dense_7 (Dense)              (None, 128)               737408    \n",
      "_________________________________________________________________\n",
      "dense_8 (Dense)              (None, 7)                 903       \n",
      "=================================================================\n",
      "Total params: 794,567\n",
      "Trainable params: 794,567\n",
      "Non-trainable params: 0\n",
      "_________________________________________________________________\n",
      "None\n"
     ]
    }
   ],
   "source": [
    "model = Sequential()\n",
    "model.add(Conv2D(32, (5, 5), strides=(2, 2), activation='relu', input_shape=(120, 320,1))) \n",
    "model.add(MaxPooling2D((2, 2)))\n",
    "model.add(Conv2D(64, (3, 3), activation='relu')) \n",
    "model.add(MaxPooling2D((2, 2)))\n",
    "model.add(Conv2D(64, (3, 3), activation='relu'))\n",
    "model.add(MaxPooling2D((2, 2)))\n",
    "model.add(Flatten())\n",
    "model.add(Dense(128, activation='relu'))\n",
    "model.add(Dense(7, activation='softmax'))\n",
    "\n",
    "model.compile(optimizer = 'rmsprop', loss='categorical_crossentropy', metrics=['accuracy'])\n",
    "\n",
    "print(model.summary())\n",
    "\n"
   ]
  },
  {
   "cell_type": "code",
   "execution_count": 16,
   "metadata": {},
   "outputs": [
    {
     "name": "stdout",
     "output_type": "stream",
     "text": [
      "Epoch 1/10\n",
      "5/4 [==============================] - 5s 1s/step - loss: 2.0674 - acc: 0.2784 - val_loss: 1.7664 - val_acc: 0.4730\n",
      "Epoch 2/10\n",
      "5/4 [==============================] - 6s 1s/step - loss: 1.6765 - acc: 0.4117 - val_loss: 1.3840 - val_acc: 0.4595\n",
      "Epoch 3/10\n",
      "5/4 [==============================] - 6s 1s/step - loss: 1.2875 - acc: 0.5410 - val_loss: 1.4734 - val_acc: 0.4324\n",
      "Epoch 4/10\n",
      "5/4 [==============================] - 7s 1s/step - loss: 0.9721 - acc: 0.6884 - val_loss: 1.1220 - val_acc: 0.6216\n",
      "Epoch 5/10\n",
      "5/4 [==============================] - 6s 1s/step - loss: 0.8486 - acc: 0.6934 - val_loss: 0.6414 - val_acc: 0.7838\n",
      "Epoch 6/10\n",
      "5/4 [==============================] - 7s 1s/step - loss: 0.6292 - acc: 0.7863 - val_loss: 0.6965 - val_acc: 0.6892\n",
      "Epoch 7/10\n",
      "5/4 [==============================] - 7s 1s/step - loss: 0.5618 - acc: 0.8055 - val_loss: 0.4426 - val_acc: 0.8243\n",
      "Epoch 8/10\n",
      "5/4 [==============================] - 7s 1s/step - loss: 0.5615 - acc: 0.8356 - val_loss: 0.5052 - val_acc: 0.8649\n",
      "Epoch 9/10\n",
      "5/4 [==============================] - 8s 2s/step - loss: 0.4255 - acc: 0.8619 - val_loss: 0.4592 - val_acc: 0.8108\n",
      "Epoch 10/10\n",
      "5/4 [==============================] - 6s 1s/step - loss: 0.3076 - acc: 0.9024 - val_loss: 0.4021 - val_acc: 0.8514\n",
      "Total training time = 0:01:05.432882\n"
     ]
    }
   ],
   "source": [
    "###############################################\n",
    "EPOCHS = 10\n",
    "BATCH_SIZE = 64\n",
    "#############################################\n",
    "t0 = datetime.datetime.now()\n",
    "history = model.fit_generator(\n",
    "                               train_data_generator,\n",
    "                               steps_per_epoch = train_data_generator.samples/BATCH_SIZE,\n",
    "                               epochs = EPOCHS,\n",
    "                               validation_data = validation_data_generator,\n",
    "                               validation_steps = validation_data_generator.samples/BATCH_SIZE,\n",
    "                               shuffle = True\n",
    "                             )\n",
    "training_time = datetime.datetime.now() - t0\n",
    "print(\"Total training time =\", training_time)"
   ]
  },
  {
   "cell_type": "code",
   "execution_count": 17,
   "metadata": {},
   "outputs": [
    {
     "name": "stdout",
     "output_type": "stream",
     "text": [
      "Accuracy = 79.72972972972973\n"
     ]
    }
   ],
   "source": [
    "test_data_generator.reset()\n",
    "\n",
    "actual_class_indices = test_data_generator.classes\n",
    "preds = model.predict_generator(test_data_generator, steps = test_data_generator.samples/BATCH_SIZE)\n",
    "predicted_class_indices = np.argmax(preds, axis=1)\n",
    "\n",
    "right_predictions = 0\n",
    "\n",
    "for actual, predicted in zip(actual_class_indices, predicted_class_indices):\n",
    "    if actual == predicted: \n",
    "        right_predictions += 1\n",
    "\n",
    "print(\"Accuracy =\", right_predictions/len(actual_class_indices)*100)"
   ]
  },
  {
   "cell_type": "code",
   "execution_count": 18,
   "metadata": {},
   "outputs": [
    {
     "name": "stdout",
     "output_type": "stream",
     "text": [
      "Saved model to disk\n"
     ]
    }
   ],
   "source": [
    "from keras.models import model_from_json\n",
    "\n",
    "model_json = model.to_json()\n",
    "with open(\"./Models/GestureDetectionModel_2.json\", \"w\") as json_file:\n",
    "    json_file.write(model_json)\n",
    " # serialize weights to HDF5\n",
    "model.save_weights(\"./Models/GestureDetectionModel_2_weights.h5\")\n",
    "print(\"Saved model to disk\")"
   ]
  }
 ],
 "metadata": {
  "kernelspec": {
   "display_name": "Python 3",
   "language": "python",
   "name": "python3"
  },
  "language_info": {
   "codemirror_mode": {
    "name": "ipython",
    "version": 3
   },
   "file_extension": ".py",
   "mimetype": "text/x-python",
   "name": "python",
   "nbconvert_exporter": "python",
   "pygments_lexer": "ipython3",
   "version": "3.6.5"
  }
 },
 "nbformat": 4,
 "nbformat_minor": 2
}
